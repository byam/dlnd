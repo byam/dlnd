{
 "cells": [
  {
   "cell_type": "markdown",
   "metadata": {},
   "source": [
    "## Prepare data"
   ]
  },
  {
   "cell_type": "code",
   "execution_count": 3,
   "metadata": {},
   "outputs": [],
   "source": [
    "import mnist_loader\n",
    "\n",
    "training_data, validation_data, test_data = mnist_loader.load_data_wrapper()"
   ]
  },
  {
   "cell_type": "markdown",
   "metadata": {},
   "source": [
    "## Create Network"
   ]
  },
  {
   "cell_type": "code",
   "execution_count": 7,
   "metadata": {
    "collapsed": true
   },
   "outputs": [],
   "source": [
    "import network\n",
    "\n",
    "net = network.Network([784, 30, 10])"
   ]
  },
  {
   "cell_type": "markdown",
   "metadata": {},
   "source": [
    "## Train\n",
    "\n",
    "we'll use stochastic gradient descent to learn from the MNIST training_data over 10 epochs, with a mini-batch size of 10, and a learning rate of η=3.0"
   ]
  },
  {
   "cell_type": "code",
   "execution_count": 8,
   "metadata": {
    "scrolled": true
   },
   "outputs": [
    {
     "name": "stdout",
     "output_type": "stream",
     "text": [
      "Epoch 0: 7936 / 10000\n",
      "Epoch 1: 9236 / 10000\n",
      "Epoch 2: 9278 / 10000\n",
      "Epoch 3: 9330 / 10000\n",
      "Epoch 4: 9333 / 10000\n",
      "Epoch 5: 9375 / 10000\n",
      "Epoch 6: 9401 / 10000\n",
      "Epoch 7: 9391 / 10000\n",
      "Epoch 8: 9402 / 10000\n",
      "Epoch 9: 9415 / 10000\n"
     ]
    }
   ],
   "source": [
    "net.SGD(training_data, 10, 10, 3.0, test_data=test_data)"
   ]
  },
  {
   "cell_type": "markdown",
   "metadata": {},
   "source": [
    "## Changin Hyperparameters"
   ]
  },
  {
   "cell_type": "code",
   "execution_count": 9,
   "metadata": {},
   "outputs": [
    {
     "name": "stdout",
     "output_type": "stream",
     "text": [
      "Epoch 0: 5706 / 10000\n",
      "Epoch 1: 5768 / 10000\n",
      "Epoch 2: 6726 / 10000\n",
      "Epoch 3: 7541 / 10000\n",
      "Epoch 4: 7659 / 10000\n",
      "Epoch 5: 7649 / 10000\n",
      "Epoch 6: 7696 / 10000\n",
      "Epoch 7: 7690 / 10000\n",
      "Epoch 8: 7714 / 10000\n",
      "Epoch 9: 7717 / 10000\n"
     ]
    }
   ],
   "source": [
    "# set hidden layer units to 100\n",
    "net = network.Network([784, 100, 10])\n",
    "net.SGD(training_data, 10, 10, 3.0, test_data=test_data)"
   ]
  },
  {
   "cell_type": "code",
   "execution_count": 10,
   "metadata": {},
   "outputs": [
    {
     "name": "stdout",
     "output_type": "stream",
     "text": [
      "Epoch 0: 944 / 10000\n",
      "Epoch 1: 1306 / 10000\n",
      "Epoch 2: 1450 / 10000\n",
      "Epoch 3: 1546 / 10000\n",
      "Epoch 4: 1609 / 10000\n",
      "Epoch 5: 1657 / 10000\n",
      "Epoch 6: 1704 / 10000\n",
      "Epoch 7: 1738 / 10000\n",
      "Epoch 8: 1776 / 10000\n",
      "Epoch 9: 1812 / 10000\n"
     ]
    }
   ],
   "source": [
    "# set learning rate to 0.001\n",
    "net = network.Network([784, 100, 10])\n",
    "net.SGD(training_data, 10, 10, 0.001, test_data=test_data)"
   ]
  },
  {
   "cell_type": "markdown",
   "metadata": {},
   "source": [
    "## SVM comparison"
   ]
  },
  {
   "cell_type": "code",
   "execution_count": 11,
   "metadata": {},
   "outputs": [
    {
     "name": "stdout",
     "output_type": "stream",
     "text": [
      "Baseline classifier using an SVM.\n",
      "9435 of 10000 values correct.\n"
     ]
    }
   ],
   "source": [
    "importort mnist_svm\n",
    "\n",
    "mnist_svm.svm_baseline()"
   ]
  },
  {
   "cell_type": "markdown",
   "metadata": {},
   "source": [
    "## Cross-Entropy"
   ]
  },
  {
   "cell_type": "code",
   "execution_count": 13,
   "metadata": {},
   "outputs": [
    {
     "name": "stdout",
     "output_type": "stream",
     "text": [
      "Help on method SGD in module network2:\n",
      "\n",
      "SGD(self, training_data, epochs, mini_batch_size, eta, lmbda=0.0, evaluation_data=None, monitor_evaluation_cost=False, monitor_evaluation_accuracy=False, monitor_training_cost=False, monitor_training_accuracy=False) unbound network2.Network method\n",
      "    Train the neural network using mini-batch stochastic gradient\n",
      "    descent.  The ``training_data`` is a list of tuples ``(x, y)``\n",
      "    representing the training inputs and the desired outputs.  The\n",
      "    other non-optional parameters are self-explanatory, as is the\n",
      "    regularization parameter ``lmbda``.  The method also accepts\n",
      "    ``evaluation_data``, usually either the validation or test\n",
      "    data.  We can monitor the cost and accuracy on either the\n",
      "    evaluation data or the training data, by setting the\n",
      "    appropriate flags.  The method returns a tuple containing four\n",
      "    lists: the (per-epoch) costs on the evaluation data, the\n",
      "    accuracies on the evaluation data, the costs on the training\n",
      "    data, and the accuracies on the training data.  All values are\n",
      "    evaluated at the end of each training epoch.  So, for example,\n",
      "    if we train for 30 epochs, then the first element of the tuple\n",
      "    will be a 30-element list containing the cost on the\n",
      "    evaluation data at the end of each epoch. Note that the lists\n",
      "    are empty if the corresponding flag is not set.\n",
      "\n"
     ]
    }
   ],
   "source": [
    "import network2\n",
    "\n",
    "help(network2.Network.SGD)"
   ]
  },
  {
   "cell_type": "code",
   "execution_count": 15,
   "metadata": {},
   "outputs": [
    {
     "name": "stdout",
     "output_type": "stream",
     "text": [
      "Epoch 0 training complete\n",
      "Accuracy on evaluation data: 9175 / 10000\n",
      "\n",
      "Epoch 1 training complete\n",
      "Accuracy on evaluation data: 9202 / 10000\n",
      "\n",
      "Epoch 2 training complete\n",
      "Accuracy on evaluation data: 9322 / 10000\n",
      "\n",
      "Epoch 3 training complete\n",
      "Accuracy on evaluation data: 9393 / 10000\n",
      "\n",
      "Epoch 4 training complete\n",
      "Accuracy on evaluation data: 9428 / 10000\n",
      "\n",
      "Epoch 5 training complete\n",
      "Accuracy on evaluation data: 9451 / 10000\n",
      "\n",
      "Epoch 6 training complete\n",
      "Accuracy on evaluation data: 9483 / 10000\n",
      "\n",
      "Epoch 7 training complete\n",
      "Accuracy on evaluation data: 9478 / 10000\n",
      "\n",
      "Epoch 8 training complete\n",
      "Accuracy on evaluation data: 9497 / 10000\n",
      "\n",
      "Epoch 9 training complete\n",
      "Accuracy on evaluation data: 9497 / 10000\n",
      "\n"
     ]
    },
    {
     "data": {
      "text/plain": [
       "([], [9175, 9202, 9322, 9393, 9428, 9451, 9483, 9478, 9497, 9497], [], [])"
      ]
     },
     "execution_count": 15,
     "metadata": {},
     "output_type": "execute_result"
    }
   ],
   "source": [
    "net = network2.Network([784, 30, 10], cost=network2.CrossEntropyCost)\n",
    "\n",
    "net.large_weight_initializer()\n",
    "\n",
    "net.SGD(training_data, 10, 10, 0.5, evaluation_data=test_data, monitor_evaluation_accuracy=True)"
   ]
  },
  {
   "cell_type": "code",
   "execution_count": null,
   "metadata": {
    "collapsed": true
   },
   "outputs": [],
   "source": []
  }
 ],
 "metadata": {
  "kernelspec": {
   "display_name": "Python 2",
   "language": "python",
   "name": "python2"
  },
  "language_info": {
   "codemirror_mode": {
    "name": "ipython",
    "version": 2
   },
   "file_extension": ".py",
   "mimetype": "text/x-python",
   "name": "python",
   "nbconvert_exporter": "python",
   "pygments_lexer": "ipython2",
   "version": "2.7.13"
  }
 },
 "nbformat": 4,
 "nbformat_minor": 2
}

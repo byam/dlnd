{
 "cells": [
  {
   "cell_type": "markdown",
   "metadata": {},
   "source": [
    "### Getting Started With TensorFlow\n",
    "### https://www.tensorflow.org/get_started/get_started"
   ]
  },
  {
   "cell_type": "markdown",
   "metadata": {},
   "source": [
    "# Tensors\n",
    "\n",
    "3 # a rank 0 tensor; this is a scalar with shape []\n",
    "\n",
    "[1., 2., 3.] # a rank 1 tensor; this is a vector with shape [3]\n",
    "\n",
    "[[1., 2., 3.], [4., 5., 6.]] # a rank 2 tensor; a matrix with shape [2, 3]\n",
    "\n",
    "[[[1., 2., 3.]], [[7., 8., 9.]]] # a rank 3 tensor with shape [2, 1, 3]"
   ]
  },
  {
   "cell_type": "markdown",
   "metadata": {},
   "source": [
    "## TensorFlow Core tutorial"
   ]
  },
  {
   "cell_type": "code",
   "execution_count": 1,
   "metadata": {
    "collapsed": true
   },
   "outputs": [],
   "source": [
    "import tensorflow as tf"
   ]
  },
  {
   "cell_type": "code",
   "execution_count": 2,
   "metadata": {},
   "outputs": [
    {
     "name": "stdout",
     "output_type": "stream",
     "text": [
      "Tensor(\"Const:0\", shape=(), dtype=float32) Tensor(\"Const_1:0\", shape=(), dtype=float32)\n"
     ]
    }
   ],
   "source": [
    "node1 = tf.constant(3.0, dtype=tf.float32)\n",
    "node2 = tf.constant(4.0, dtype=tf.float32)\n",
    "print(node1, node2)"
   ]
  },
  {
   "cell_type": "code",
   "execution_count": 3,
   "metadata": {},
   "outputs": [
    {
     "name": "stdout",
     "output_type": "stream",
     "text": [
      "[3.0, 4.0]\n"
     ]
    }
   ],
   "source": [
    "sess = tf.Session()\n",
    "print(sess.run([node1, node2]))"
   ]
  },
  {
   "cell_type": "code",
   "execution_count": 4,
   "metadata": {},
   "outputs": [
    {
     "name": "stdout",
     "output_type": "stream",
     "text": [
      "node3:  Tensor(\"Add:0\", shape=(), dtype=float32)\n",
      "sess.run(node3):  7.0\n"
     ]
    }
   ],
   "source": [
    "node3 = tf.add(node1, node2)\n",
    "print(\"node3: \", node3)\n",
    "print(\"sess.run(node3): \", sess.run(node3))"
   ]
  },
  {
   "cell_type": "code",
   "execution_count": 5,
   "metadata": {
    "collapsed": true
   },
   "outputs": [],
   "source": [
    "a = tf.placeholder(tf.float32)\n",
    "b = tf.placeholder(tf.float32)\n",
    "adder_node = a + b # or tf.add(a, b)"
   ]
  },
  {
   "cell_type": "code",
   "execution_count": 7,
   "metadata": {},
   "outputs": [
    {
     "name": "stdout",
     "output_type": "stream",
     "text": [
      "7.0\n",
      "[  7.0999999  10.5      ]\n"
     ]
    }
   ],
   "source": [
    "print(sess.run(adder_node, feed_dict={a: 3, b:4}))\n",
    "print(sess.run(adder_node, feed_dict={a: [3, 4.5], b:[4.1, 6]}))"
   ]
  },
  {
   "cell_type": "code",
   "execution_count": 8,
   "metadata": {},
   "outputs": [
    {
     "name": "stdout",
     "output_type": "stream",
     "text": [
      "27.0\n"
     ]
    }
   ],
   "source": [
    "add_and_triple = adder_node * 3.\n",
    "print(sess.run(add_and_triple, {a: 4, b:5}))"
   ]
  },
  {
   "cell_type": "code",
   "execution_count": 9,
   "metadata": {
    "collapsed": true
   },
   "outputs": [],
   "source": [
    "W = tf.Variable([.3], dtype=tf.float32)\n",
    "b = tf.Variable([-.3], dtype=tf.float32)\n",
    "x = tf.placeholder(dtype=tf.float32)\n",
    "\n",
    "linear_model = W * x + b"
   ]
  },
  {
   "cell_type": "code",
   "execution_count": 11,
   "metadata": {
    "collapsed": true
   },
   "outputs": [],
   "source": [
    "init = tf.global_variables_initializer()\n",
    "sess.run(init)"
   ]
  },
  {
   "cell_type": "code",
   "execution_count": 12,
   "metadata": {},
   "outputs": [
    {
     "name": "stdout",
     "output_type": "stream",
     "text": [
      "[ 0.          0.30000001  0.60000002  0.90000004]\n"
     ]
    }
   ],
   "source": [
    "print(sess.run(linear_model, {x: [1,2,3,4]}))"
   ]
  },
  {
   "cell_type": "code",
   "execution_count": 13,
   "metadata": {},
   "outputs": [
    {
     "name": "stdout",
     "output_type": "stream",
     "text": [
      "23.66\n"
     ]
    }
   ],
   "source": [
    "y = tf.placeholder(tf.float32)\n",
    "squared_deltas = tf.square(linear_model - y)\n",
    "loss = tf.reduce_sum(squared_deltas)\n",
    "\n",
    "print(sess.run(loss, {x: [1, 2, 3, 4], y: [0, -1, -2, -3]}))"
   ]
  },
  {
   "cell_type": "code",
   "execution_count": 14,
   "metadata": {},
   "outputs": [
    {
     "name": "stdout",
     "output_type": "stream",
     "text": [
      "0.0\n"
     ]
    }
   ],
   "source": [
    "fixW = tf.assign(W, [-1.])\n",
    "fixb = tf.assign(b, [1.])\n",
    "sess.run([fixW, fixb])\n",
    "\n",
    "print(sess.run(loss, {x: [1, 2, 3, 4], y: [0, -1, -2, -3]}))"
   ]
  },
  {
   "cell_type": "markdown",
   "metadata": {},
   "source": [
    "## tf.train API"
   ]
  },
  {
   "cell_type": "code",
   "execution_count": 16,
   "metadata": {
    "collapsed": true
   },
   "outputs": [],
   "source": [
    "optimizer = tf.train.GradientDescentOptimizer(0.01)\n",
    "train = optimizer.minimize(loss)"
   ]
  },
  {
   "cell_type": "code",
   "execution_count": 18,
   "metadata": {},
   "outputs": [
    {
     "name": "stdout",
     "output_type": "stream",
     "text": [
      "[array([-0.9999969], dtype=float32), array([ 0.99999082], dtype=float32)]\n"
     ]
    }
   ],
   "source": [
    "sess.run(init)\n",
    "for i in range(1000):\n",
    "    sess.run(train, {x: [1, 2, 3, 4], y: [0, -1, -2, -3]})\n",
    "    \n",
    "print(sess.run([W, b]))"
   ]
  },
  {
   "cell_type": "markdown",
   "metadata": {},
   "source": [
    "### Complete Program"
   ]
  },
  {
   "cell_type": "code",
   "execution_count": 19,
   "metadata": {},
   "outputs": [
    {
     "name": "stdout",
     "output_type": "stream",
     "text": [
      "W: [-0.9999969] b: [ 0.99999082] loss: 5.69997e-11\n"
     ]
    }
   ],
   "source": [
    "import tensorflow as tf\n",
    "\n",
    "# Model Parameters\n",
    "W = tf.Variable([.3], dtype=tf.float32)\n",
    "b = tf.Variable([-.3], dtype=tf.float32)\n",
    "\n",
    "# Model input and output\n",
    "x = tf.placeholder(tf.float32)\n",
    "y = tf.placeholder(tf.float32)\n",
    "\n",
    "# Model\n",
    "linear_model = W * x + b\n",
    "\n",
    "# loss\n",
    "loss = tf.reduce_sum(tf.square(linear_model - y))\n",
    "\n",
    "# optimizer\n",
    "optimizer = tf.train.GradientDescentOptimizer(0.01)\n",
    "train = optimizer.minimize(loss)\n",
    "\n",
    "# training data\n",
    "x_train = [1, 2, 3, 4]\n",
    "y_train = [0, -1, -2, -3]\n",
    "\n",
    "# training loop\n",
    "init = tf.global_variables_initializer()\n",
    "sess = tf.Session()\n",
    "\n",
    "sess.run(init)\n",
    "\n",
    "for i in range(1000):\n",
    "    sess.run(train, {x: x_train, y: y_train})\n",
    "    \n",
    "# evalute training accuracy\n",
    "curr_W, curr_b, curr_loss = sess.run([W, b, loss], {x: x_train, y: y_train})\n",
    "print(\"W: %s b: %s loss: %s\" % (curr_W, curr_b, curr_loss))"
   ]
  },
  {
   "cell_type": "markdown",
   "metadata": {},
   "source": [
    "## tf.estimator"
   ]
  },
  {
   "cell_type": "markdown",
   "metadata": {},
   "source": [
    "tf.estimator is a high-level TensorFlow library that simplifies the mechanics of machine learning, including the following:\n",
    "\n",
    "- running training loops\n",
    "- running evaluation loops\n",
    "- managing data sets\n",
    "\n",
    "tf.estimator defines many common models."
   ]
  },
  {
   "cell_type": "markdown",
   "metadata": {},
   "source": [
    "### Basic Usage"
   ]
  },
  {
   "cell_type": "code",
   "execution_count": 26,
   "metadata": {
    "scrolled": true
   },
   "outputs": [
    {
     "name": "stdout",
     "output_type": "stream",
     "text": [
      "INFO:tensorflow:Using default config.\n",
      "WARNING:tensorflow:Using temporary folder as model directory: /var/folders/ss/z_kczhtn2s18h3crds_dlgpn77x_9l/T/tmpepssoh5o\n",
      "INFO:tensorflow:Using config: {'_model_dir': '/var/folders/ss/z_kczhtn2s18h3crds_dlgpn77x_9l/T/tmpepssoh5o', '_tf_random_seed': 1, '_save_summary_steps': 100, '_save_checkpoints_secs': 600, '_save_checkpoints_steps': None, '_session_config': None, '_keep_checkpoint_max': 5, '_keep_checkpoint_every_n_hours': 10000, '_log_step_count_steps': 100}\n",
      "INFO:tensorflow:Create CheckpointSaverHook.\n",
      "INFO:tensorflow:Saving checkpoints for 1 into /var/folders/ss/z_kczhtn2s18h3crds_dlgpn77x_9l/T/tmpepssoh5o/model.ckpt.\n",
      "INFO:tensorflow:loss = 15.0, step = 1\n",
      "INFO:tensorflow:global_step/sec: 1081.39\n",
      "INFO:tensorflow:loss = 0.239676, step = 101 (0.094 sec)\n",
      "INFO:tensorflow:global_step/sec: 1111.01\n",
      "INFO:tensorflow:loss = 0.0483582, step = 201 (0.090 sec)\n",
      "INFO:tensorflow:global_step/sec: 1270.28\n",
      "INFO:tensorflow:loss = 0.0068667, step = 301 (0.079 sec)\n",
      "INFO:tensorflow:global_step/sec: 1105.72\n",
      "INFO:tensorflow:loss = 0.0014456, step = 401 (0.091 sec)\n",
      "INFO:tensorflow:global_step/sec: 1023.3\n",
      "INFO:tensorflow:loss = 0.000642237, step = 501 (0.097 sec)\n",
      "INFO:tensorflow:global_step/sec: 1049.84\n",
      "INFO:tensorflow:loss = 5.27472e-05, step = 601 (0.095 sec)\n",
      "INFO:tensorflow:global_step/sec: 1092.19\n",
      "INFO:tensorflow:loss = 1.28378e-05, step = 701 (0.092 sec)\n",
      "INFO:tensorflow:global_step/sec: 1009.79\n",
      "INFO:tensorflow:loss = 4.10992e-06, step = 801 (0.099 sec)\n",
      "INFO:tensorflow:global_step/sec: 1001.88\n",
      "INFO:tensorflow:loss = 5.77991e-07, step = 901 (0.099 sec)\n",
      "INFO:tensorflow:Saving checkpoints for 1000 into /var/folders/ss/z_kczhtn2s18h3crds_dlgpn77x_9l/T/tmpepssoh5o/model.ckpt.\n",
      "INFO:tensorflow:Loss for final step: 1.11201e-07.\n",
      "INFO:tensorflow:Starting evaluation at 2017-10-18-12:27:08\n",
      "INFO:tensorflow:Restoring parameters from /var/folders/ss/z_kczhtn2s18h3crds_dlgpn77x_9l/T/tmpepssoh5o/model.ckpt-1000\n",
      "INFO:tensorflow:Finished evaluation at 2017-10-18-12:27:09\n",
      "INFO:tensorflow:Saving dict for global step 1000: average_loss = 3.17027e-08, global_step = 1000, loss = 1.26811e-07\n",
      "INFO:tensorflow:Starting evaluation at 2017-10-18-12:27:09\n",
      "INFO:tensorflow:Restoring parameters from /var/folders/ss/z_kczhtn2s18h3crds_dlgpn77x_9l/T/tmpepssoh5o/model.ckpt-1000\n",
      "INFO:tensorflow:Finished evaluation at 2017-10-18-12:27:10\n",
      "INFO:tensorflow:Saving dict for global step 1000: average_loss = 0.00253996, global_step = 1000, loss = 0.0101599\n",
      "train metrics: %r {'average_loss': 3.1702669e-08, 'loss': 1.2681068e-07, 'global_step': 1000}\n",
      "eval metrics: %r {'average_loss': 0.0025399625, 'loss': 0.01015985, 'global_step': 1000}\n"
     ]
    }
   ],
   "source": [
    "import tensorflow as tf\n",
    "import numpy as np\n",
    "\n",
    "feature_columns = [tf.feature_column.numeric_column(\"x\", shape = [1])]\n",
    "\n",
    "estimator = tf.estimator.LinearRegressor(feature_columns=feature_columns)\n",
    "\n",
    "x_train = np.array([1., 2., 3., 4.])\n",
    "y_train = np.array([0., -1., -2., -3.])\n",
    "x_eval = np.array([2., 5., 8., 1.])\n",
    "y_eval = np.array([-1.01, -4.1, -7., 0.])\n",
    "\n",
    "input_fn = tf.estimator.inputs.numpy_input_fn({\"x\": x_train}, y_train, batch_size=4, num_epochs=None, shuffle=True)\n",
    "train_input_fn = tf.estimator.inputs.numpy_input_fn({\"x\": x_train}, y_train, batch_size=4, num_epochs=1000, shuffle=False)\n",
    "eval_input_fn = tf.estimator.inputs.numpy_input_fn({\"x\": x_eval}, y_eval, batch_size=4, num_epochs=1000, shuffle=False)\n",
    "\n",
    "estimator.train(input_fn=input_fn, steps=1000)\n",
    "\n",
    "train_metrics = estimator.evaluate(input_fn=train_input_fn)\n",
    "eval_metrics = estimator.evaluate(input_fn=eval_input_fn)\n",
    "print(\"train metrics: %r\", train_metrics)\n",
    "print(\"eval metrics: %r\", eval_metrics)"
   ]
  },
  {
   "cell_type": "markdown",
   "metadata": {},
   "source": [
    "### A custom model"
   ]
  },
  {
   "cell_type": "code",
   "execution_count": 27,
   "metadata": {
    "scrolled": true
   },
   "outputs": [
    {
     "name": "stdout",
     "output_type": "stream",
     "text": [
      "INFO:tensorflow:Using default config.\n",
      "WARNING:tensorflow:Using temporary folder as model directory: /var/folders/ss/z_kczhtn2s18h3crds_dlgpn77x_9l/T/tmpotgifpkh\n",
      "INFO:tensorflow:Using config: {'_model_dir': '/var/folders/ss/z_kczhtn2s18h3crds_dlgpn77x_9l/T/tmpotgifpkh', '_tf_random_seed': 1, '_save_summary_steps': 100, '_save_checkpoints_secs': 600, '_save_checkpoints_steps': None, '_session_config': None, '_keep_checkpoint_max': 5, '_keep_checkpoint_every_n_hours': 10000, '_log_step_count_steps': 100}\n",
      "INFO:tensorflow:Create CheckpointSaverHook.\n",
      "INFO:tensorflow:Saving checkpoints for 1 into /var/folders/ss/z_kczhtn2s18h3crds_dlgpn77x_9l/T/tmpotgifpkh/model.ckpt.\n",
      "INFO:tensorflow:loss = 17.3073748566, step = 1\n",
      "INFO:tensorflow:global_step/sec: 1381.08\n",
      "INFO:tensorflow:loss = 0.0314294758896, step = 101 (0.075 sec)\n",
      "INFO:tensorflow:global_step/sec: 1267.3\n",
      "INFO:tensorflow:loss = 0.00522201149971, step = 201 (0.078 sec)\n",
      "INFO:tensorflow:global_step/sec: 1210.41\n",
      "INFO:tensorflow:loss = 0.000360732436226, step = 301 (0.083 sec)\n",
      "INFO:tensorflow:global_step/sec: 1342.42\n",
      "INFO:tensorflow:loss = 5.11407158179e-06, step = 401 (0.074 sec)\n",
      "INFO:tensorflow:global_step/sec: 1087.82\n",
      "INFO:tensorflow:loss = 1.82282023617e-06, step = 501 (0.092 sec)\n",
      "INFO:tensorflow:global_step/sec: 1308.73\n",
      "INFO:tensorflow:loss = 6.39389906773e-08, step = 601 (0.076 sec)\n",
      "INFO:tensorflow:global_step/sec: 1315.31\n",
      "INFO:tensorflow:loss = 1.7105018999e-08, step = 701 (0.076 sec)\n",
      "INFO:tensorflow:global_step/sec: 1312.45\n",
      "INFO:tensorflow:loss = 2.36796621412e-09, step = 801 (0.077 sec)\n",
      "INFO:tensorflow:global_step/sec: 1232.36\n",
      "INFO:tensorflow:loss = 1.44224625249e-10, step = 901 (0.081 sec)\n",
      "INFO:tensorflow:Saving checkpoints for 1000 into /var/folders/ss/z_kczhtn2s18h3crds_dlgpn77x_9l/T/tmpotgifpkh/model.ckpt.\n",
      "INFO:tensorflow:Loss for final step: 1.73267939783e-11.\n",
      "INFO:tensorflow:Starting evaluation at 2017-10-18-12:31:48\n",
      "INFO:tensorflow:Restoring parameters from /var/folders/ss/z_kczhtn2s18h3crds_dlgpn77x_9l/T/tmpotgifpkh/model.ckpt-1000\n",
      "INFO:tensorflow:Finished evaluation at 2017-10-18-12:31:49\n",
      "INFO:tensorflow:Saving dict for global step 1000: global_step = 1000, loss = 1.32979e-11\n",
      "INFO:tensorflow:Starting evaluation at 2017-10-18-12:31:49\n",
      "INFO:tensorflow:Restoring parameters from /var/folders/ss/z_kczhtn2s18h3crds_dlgpn77x_9l/T/tmpotgifpkh/model.ckpt-1000\n",
      "INFO:tensorflow:Finished evaluation at 2017-10-18-12:31:50\n",
      "INFO:tensorflow:Saving dict for global step 1000: global_step = 1000, loss = 0.0101004\n",
      "train metrics: {'loss': 1.3297869e-11, 'global_step': 1000}\n",
      "eval metrics: {'loss': 0.010100389, 'global_step': 1000}\n"
     ]
    }
   ],
   "source": [
    "import numpy as np\n",
    "import tensorflow as tf\n",
    "\n",
    "# Declare list of features, we only have one real-valued feature\n",
    "def model_fn(features, labels, mode):\n",
    "  # Build a linear model and predict values\n",
    "  W = tf.get_variable(\"W\", [1], dtype=tf.float64)\n",
    "  b = tf.get_variable(\"b\", [1], dtype=tf.float64)\n",
    "  y = W * features['x'] + b\n",
    "  # Loss sub-graph\n",
    "  loss = tf.reduce_sum(tf.square(y - labels))\n",
    "  # Training sub-graph\n",
    "  global_step = tf.train.get_global_step()\n",
    "  optimizer = tf.train.GradientDescentOptimizer(0.01)\n",
    "  train = tf.group(optimizer.minimize(loss),\n",
    "                   tf.assign_add(global_step, 1))\n",
    "  # EstimatorSpec connects subgraphs we built to the\n",
    "  # appropriate functionality.\n",
    "  return tf.estimator.EstimatorSpec(\n",
    "      mode=mode,\n",
    "      predictions=y,\n",
    "      loss=loss,\n",
    "      train_op=train)\n",
    "\n",
    "estimator = tf.estimator.Estimator(model_fn=model_fn)\n",
    "# define our data sets\n",
    "x_train = np.array([1., 2., 3., 4.])\n",
    "y_train = np.array([0., -1., -2., -3.])\n",
    "x_eval = np.array([2., 5., 8., 1.])\n",
    "y_eval = np.array([-1.01, -4.1, -7, 0.])\n",
    "input_fn = tf.estimator.inputs.numpy_input_fn(\n",
    "    {\"x\": x_train}, y_train, batch_size=4, num_epochs=None, shuffle=True)\n",
    "train_input_fn = tf.estimator.inputs.numpy_input_fn(\n",
    "    {\"x\": x_train}, y_train, batch_size=4, num_epochs=1000, shuffle=False)\n",
    "eval_input_fn = tf.estimator.inputs.numpy_input_fn(\n",
    "    {\"x\": x_eval}, y_eval, batch_size=4, num_epochs=1000, shuffle=False)\n",
    "\n",
    "# train\n",
    "estimator.train(input_fn=input_fn, steps=1000)\n",
    "# Here we evaluate how well our model did.\n",
    "train_metrics = estimator.evaluate(input_fn=train_input_fn)\n",
    "eval_metrics = estimator.evaluate(input_fn=eval_input_fn)\n",
    "print(\"train metrics: %r\"% train_metrics)\n",
    "print(\"eval metrics: %r\"% eval_metrics)"
   ]
  },
  {
   "cell_type": "code",
   "execution_count": null,
   "metadata": {
    "collapsed": true
   },
   "outputs": [],
   "source": []
  }
 ],
 "metadata": {
  "kernelspec": {
   "display_name": "Python 3",
   "language": "python",
   "name": "python3"
  },
  "language_info": {
   "codemirror_mode": {
    "name": "ipython",
    "version": 3
   },
   "file_extension": ".py",
   "mimetype": "text/x-python",
   "name": "python",
   "nbconvert_exporter": "python",
   "pygments_lexer": "ipython3",
   "version": "3.6.2"
  }
 },
 "nbformat": 4,
 "nbformat_minor": 2
}
